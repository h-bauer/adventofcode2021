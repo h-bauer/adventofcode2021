{
 "cells": [
  {
   "cell_type": "code",
   "execution_count": 91,
   "metadata": {},
   "outputs": [],
   "source": [
    "import pandas as pd"
   ]
  },
  {
   "cell_type": "markdown",
   "metadata": {},
   "source": [
    "# Part 1"
   ]
  },
  {
   "cell_type": "code",
   "execution_count": 138,
   "metadata": {},
   "outputs": [],
   "source": [
    "def lines_to_df(lines):\n",
    "    table = ((int(i) for i in line) for line in lines)\n",
    "    return pd.DataFrame(table)\n",
    "\n",
    "def df_to_int(df):\n",
    "    return int(\"\".join(df.astype(str)), 2)\n",
    "\n",
    "def msb(df):\n",
    "    return (df.sum() >= (len(df) / 2)).astype(int)\n",
    "\n",
    "def lsb(df):\n",
    "    return (df.sum() < (len(df) / 2)).astype(int)"
   ]
  },
  {
   "cell_type": "code",
   "execution_count": 160,
   "metadata": {},
   "outputs": [
    {
     "data": {
      "text/plain": [
       "4147524"
      ]
     },
     "execution_count": 160,
     "metadata": {},
     "output_type": "execute_result"
    }
   ],
   "source": [
    "with open('input') as f:\n",
    "    lines = f.read().split()\n",
    "\n",
    "df = lines_to_df(lines)\n",
    "\n",
    "gamma  = df_to_int(msb(df))\n",
    "epsilon = df_to_int(lsb(df))\n",
    "\n",
    "gamma * epsilon"
   ]
  },
  {
   "cell_type": "markdown",
   "metadata": {},
   "source": [
    "# Part 2"
   ]
  },
  {
   "cell_type": "code",
   "execution_count": 161,
   "metadata": {},
   "outputs": [],
   "source": [
    "def oxygen_rate(df):\n",
    "    vals = df\n",
    "    m = msb(vals)\n",
    "    for i in vals:\n",
    "        vals = vals[vals[i] == m[i]]\n",
    "        if len(vals) == 1:\n",
    "            return df_to_int(vals.iloc[0])\n",
    "        m = msb(vals)\n",
    "\n",
    "def co2_rate(df):\n",
    "    vals = df\n",
    "    m = lsb(vals)\n",
    "    for i in vals:\n",
    "        vals = vals[vals[i] == m[i]]\n",
    "        if len(vals) == 1:\n",
    "            return df_to_int(vals.iloc[0])\n",
    "        m = lsb(vals)"
   ]
  },
  {
   "cell_type": "code",
   "execution_count": 162,
   "metadata": {},
   "outputs": [
    {
     "data": {
      "text/plain": [
       "3570354"
      ]
     },
     "execution_count": 162,
     "metadata": {},
     "output_type": "execute_result"
    }
   ],
   "source": [
    "o2 = oxygen_rate(df)\n",
    "co2 = co2_rate(df)\n",
    "o2 * co2"
   ]
  },
  {
   "cell_type": "code",
   "execution_count": null,
   "metadata": {},
   "outputs": [],
   "source": []
  }
 ],
 "metadata": {
  "kernelspec": {
   "display_name": "Python 3",
   "language": "python",
   "name": "python3"
  },
  "language_info": {
   "codemirror_mode": {
    "name": "ipython",
    "version": 3
   },
   "file_extension": ".py",
   "mimetype": "text/x-python",
   "name": "python",
   "nbconvert_exporter": "python",
   "pygments_lexer": "ipython3",
   "version": "3.8.10"
  }
 },
 "nbformat": 4,
 "nbformat_minor": 4
}
