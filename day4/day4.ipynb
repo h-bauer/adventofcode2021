{
 "cells": [
  {
   "cell_type": "code",
   "execution_count": 1,
   "metadata": {},
   "outputs": [],
   "source": [
    "import pandas as pd\n",
    "from io import StringIO"
   ]
  },
  {
   "cell_type": "markdown",
   "metadata": {},
   "source": [
    "# Part 1"
   ]
  },
  {
   "cell_type": "code",
   "execution_count": 2,
   "metadata": {},
   "outputs": [],
   "source": [
    "with open('input') as f:\n",
    "    lines = f.read()\n",
    "\n",
    "draw_list, *grids_txt = lines.split('\\n\\n')\n",
    "\n",
    "draws = [int(n) for n in draw_list.split(',')]\n",
    "\n",
    "grids = [\n",
    "    pd.read_csv(StringIO(txt), header=None, delim_whitespace=True)\n",
    "    for txt in grids_txt\n",
    "]"
   ]
  },
  {
   "cell_type": "code",
   "execution_count": 3,
   "metadata": {},
   "outputs": [],
   "source": [
    "def bingo(grids):\n",
    "    checked = [g.isnull() for g in grids]\n",
    "    for draw in draws:\n",
    "        checked = [cg | (g == draw) for cg, g in zip(checked, grids)]\n",
    "        col_win = [cg.all(axis=0).any() for cg in checked]\n",
    "        row_win = [cg.all(axis=1).any() for cg in checked]\n",
    "        for win in (col_win, row_win):\n",
    "            if any(win):\n",
    "                idx = win.index(True)\n",
    "                return draw, idx, checked[idx]"
   ]
  },
  {
   "cell_type": "code",
   "execution_count": 4,
   "metadata": {},
   "outputs": [
    {
     "data": {
      "text/plain": [
       "(95, 85, 766, 72770)"
      ]
     },
     "execution_count": 4,
     "metadata": {},
     "output_type": "execute_result"
    }
   ],
   "source": [
    "draw, idx, checked = bingo(grids)\n",
    "rest = int(grids[idx][~checked].sum().sum())\n",
    "draw, idx, rest, draw * rest"
   ]
  },
  {
   "cell_type": "markdown",
   "metadata": {},
   "source": [
    "# Part 2"
   ]
  },
  {
   "cell_type": "code",
   "execution_count": 5,
   "metadata": {},
   "outputs": [],
   "source": [
    "def no_bingo(grids):\n",
    "    playing = [True] * len(grids)\n",
    "    checked = [g.isnull() for g in grids]\n",
    "    for draw in draws:\n",
    "        checked = [cg | (g == draw) for cg, g in zip(checked, grids)]\n",
    "        col_win = [(play and cg.all(axis=0).any()) for cg, play in zip(checked, playing)]\n",
    "        row_win = [(play and cg.all(axis=1).any()) for cg, play in zip(checked, playing)]\n",
    "        for win in (col_win, row_win):\n",
    "            if any(win):\n",
    "                for idx, w in enumerate(win):\n",
    "                    if w:\n",
    "                        playing[idx] = False\n",
    "                        if not any(playing):\n",
    "                            return draw, idx, checked[idx]"
   ]
  },
  {
   "cell_type": "code",
   "execution_count": 6,
   "metadata": {},
   "outputs": [
    {
     "data": {
      "text/plain": [
       "(47, 75, 296, 13912)"
      ]
     },
     "execution_count": 6,
     "metadata": {},
     "output_type": "execute_result"
    }
   ],
   "source": [
    "draw, idx, checked = no_bingo(grids)\n",
    "rest = int(grids[idx][~checked].sum().sum())\n",
    "draw, idx, rest, draw * rest"
   ]
  }
 ],
 "metadata": {
  "kernelspec": {
   "display_name": "Python 3",
   "language": "python",
   "name": "python3"
  },
  "language_info": {
   "codemirror_mode": {
    "name": "ipython",
    "version": 3
   },
   "file_extension": ".py",
   "mimetype": "text/x-python",
   "name": "python",
   "nbconvert_exporter": "python",
   "pygments_lexer": "ipython3",
   "version": "3.8.10"
  }
 },
 "nbformat": 4,
 "nbformat_minor": 4
}
