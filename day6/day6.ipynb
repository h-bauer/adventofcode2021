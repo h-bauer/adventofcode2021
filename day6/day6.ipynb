{
 "cells": [
  {
   "cell_type": "code",
   "execution_count": 213,
   "metadata": {},
   "outputs": [],
   "source": [
    "with open('input') as f:\n",
    "    lines = f.read()\n",
    "    fishes = tuple(map(int, lines.split(',')))"
   ]
  },
  {
   "cell_type": "markdown",
   "metadata": {},
   "source": [
    "# Part 1"
   ]
  },
  {
   "cell_type": "code",
   "execution_count": 214,
   "metadata": {},
   "outputs": [],
   "source": [
    "def evolve(age):\n",
    "    return (age - 1,) if age > 0 else (6, 8) "
   ]
  },
  {
   "cell_type": "code",
   "execution_count": 215,
   "metadata": {},
   "outputs": [],
   "source": [
    "def fishes_after_days(fishes, days):\n",
    "    for day in range(days):\n",
    "        fishes = (f for fish in fishes for f in evolve(fish))\n",
    "    return sum(1 for _ in fishes)"
   ]
  },
  {
   "cell_type": "code",
   "execution_count": 217,
   "metadata": {},
   "outputs": [
    {
     "data": {
      "text/plain": [
       "372984"
      ]
     },
     "execution_count": 217,
     "metadata": {},
     "output_type": "execute_result"
    }
   ],
   "source": [
    "fishes_after_days(fishes, 80)"
   ]
  },
  {
   "cell_type": "markdown",
   "metadata": {},
   "source": [
    "# Part 2"
   ]
  },
  {
   "cell_type": "code",
   "execution_count": 218,
   "metadata": {},
   "outputs": [],
   "source": [
    "from collections import deque"
   ]
  },
  {
   "cell_type": "code",
   "execution_count": 219,
   "metadata": {},
   "outputs": [],
   "source": [
    "def evolve(fishes_by_age):\n",
    "    fishes_by_age.rotate(-1)\n",
    "    fishes_by_age[6] += fishes_by_age[-1]\n",
    "\n",
    "def index_fishes(fishes):\n",
    "    fishes_by_age = deque([0] * 9)\n",
    "    for f in fishes:\n",
    "        fishes_by_age[f] += 1\n",
    "    return fishes_by_age\n",
    "\n",
    "def fishes_after_days(fishes, days):\n",
    "    fishes_by_age = index_fishes(fishes)\n",
    "    for day in range(days):\n",
    "        evolve(fishes_by_age)\n",
    "    return sum(fishes_by_age)"
   ]
  },
  {
   "cell_type": "code",
   "execution_count": 220,
   "metadata": {},
   "outputs": [
    {
     "data": {
      "text/plain": [
       "1681503251694"
      ]
     },
     "execution_count": 220,
     "metadata": {},
     "output_type": "execute_result"
    }
   ],
   "source": [
    "fishes_after_days(fishes, 256)"
   ]
  }
 ],
 "metadata": {
  "kernelspec": {
   "display_name": "Python 3",
   "language": "python",
   "name": "python3"
  },
  "language_info": {
   "codemirror_mode": {
    "name": "ipython",
    "version": 3
   },
   "file_extension": ".py",
   "mimetype": "text/x-python",
   "name": "python",
   "nbconvert_exporter": "python",
   "pygments_lexer": "ipython3",
   "version": "3.8.10"
  }
 },
 "nbformat": 4,
 "nbformat_minor": 4
}
