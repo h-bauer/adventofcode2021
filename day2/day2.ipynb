{
 "cells": [
  {
   "cell_type": "code",
   "execution_count": 1,
   "metadata": {},
   "outputs": [],
   "source": [
    "from functools import reduce, partial"
   ]
  },
  {
   "cell_type": "markdown",
   "metadata": {},
   "source": [
    "# Part 1"
   ]
  },
  {
   "cell_type": "code",
   "execution_count": 2,
   "metadata": {},
   "outputs": [],
   "source": [
    "actions = {\n",
    "    'forward': (0, int.__add__),\n",
    "    'up': (1, int.__sub__),\n",
    "    'down': (1, int.__add__),\n",
    "}\n",
    "\n",
    "def apply_cmd(pos, cmd):\n",
    "    idx, op, val = cmd\n",
    "    pos[idx] = op(pos[idx], val)\n",
    "    return pos"
   ]
  },
  {
   "cell_type": "code",
   "execution_count": 3,
   "metadata": {},
   "outputs": [
    {
     "data": {
      "text/plain": [
       "2215080"
      ]
     },
     "execution_count": 3,
     "metadata": {},
     "output_type": "execute_result"
    }
   ],
   "source": [
    "with open(\"input\") as f:\n",
    "    lines = map(str.split, f.readlines())\n",
    "\n",
    "commands = ((*actions[cmd], int(val)) for cmd, val in lines)\n",
    "\n",
    "position = reduce(apply_cmd, commands, [0, 0])\n",
    "\n",
    "reduce(int.__mul__, position)"
   ]
  },
  {
   "cell_type": "markdown",
   "metadata": {},
   "source": [
    "# Part 2"
   ]
  },
  {
   "cell_type": "code",
   "execution_count": 4,
   "metadata": {},
   "outputs": [],
   "source": [
    "def update_aim(op, value, state):\n",
    "    pos, aim = state\n",
    "    return pos, op(aim, value)\n",
    "\n",
    "def update_pos(value, state):\n",
    "    (x, y), aim = state\n",
    "    return (x + value, y + aim * value), aim\n",
    "\n",
    "actions = {\n",
    "    'forward': update_pos,\n",
    "    'up': partial(update_aim, int.__sub__),\n",
    "    'down': partial(update_aim, int.__add__),\n",
    "}\n",
    "\n",
    "def apply_cmd(pos, cmd):\n",
    "    return cmd(pos)"
   ]
  },
  {
   "cell_type": "code",
   "execution_count": 5,
   "metadata": {},
   "outputs": [
    {
     "data": {
      "text/plain": [
       "1864715580"
      ]
     },
     "execution_count": 5,
     "metadata": {},
     "output_type": "execute_result"
    }
   ],
   "source": [
    "with open(\"input\") as f:\n",
    "    lines = map(str.split, f.readlines())\n",
    "\n",
    "commands = (partial(actions[cmd], int(val)) for cmd, val in lines)\n",
    "\n",
    "position, aim = reduce(apply_cmd, commands, ((0, 0), 0))\n",
    "\n",
    "reduce(int.__mul__, position)"
   ]
  }
 ],
 "metadata": {
  "kernelspec": {
   "display_name": "Python 3",
   "language": "python",
   "name": "python3"
  },
  "language_info": {
   "codemirror_mode": {
    "name": "ipython",
    "version": 3
   },
   "file_extension": ".py",
   "mimetype": "text/x-python",
   "name": "python",
   "nbconvert_exporter": "python",
   "pygments_lexer": "ipython3",
   "version": "3.8.10"
  }
 },
 "nbformat": 4,
 "nbformat_minor": 4
}
