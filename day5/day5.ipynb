{
 "cells": [
  {
   "cell_type": "code",
   "execution_count": 1,
   "metadata": {},
   "outputs": [],
   "source": [
    "import pandas as pd\n",
    "import numpy as np"
   ]
  },
  {
   "cell_type": "markdown",
   "metadata": {},
   "source": [
    "# Part 1"
   ]
  },
  {
   "cell_type": "code",
   "execution_count": 2,
   "metadata": {},
   "outputs": [],
   "source": [
    "with open('input') as f:\n",
    "    lines = [\n",
    "        (\n",
    "            tuple(map(int, p1.split(','))),\n",
    "            tuple(map(int, p2.split(',')))\n",
    "        )\n",
    "        for p1, p2 in (\n",
    "            line.strip().split(' -> ')\n",
    "            for line in f.readlines()\n",
    "        )\n",
    "    ]"
   ]
  },
  {
   "cell_type": "code",
   "execution_count": 3,
   "metadata": {},
   "outputs": [
    {
     "data": {
      "text/plain": [
       "(989, 989)"
      ]
     },
     "execution_count": 3,
     "metadata": {},
     "output_type": "execute_result"
    }
   ],
   "source": [
    "Xmax, Ymax = pd.DataFrame(\n",
    "    (\n",
    "        (max(x1, x2), max(y1, y2))\n",
    "        for (x1, y1), (x2, y2) in lines\n",
    "    )\n",
    ").max()\n",
    "Xmax, Ymax"
   ]
  },
  {
   "cell_type": "code",
   "execution_count": 4,
   "metadata": {},
   "outputs": [
    {
     "data": {
      "text/plain": [
       "5197"
      ]
     },
     "execution_count": 4,
     "metadata": {},
     "output_type": "execute_result"
    }
   ],
   "source": [
    "df = pd.DataFrame(np.zeros((Xmax+1, Ymax+1)))\n",
    "\n",
    "for (x1, y1), (x2, y2) in lines:\n",
    "    if (x1 == x2) or (y1 == y2):\n",
    "        xmin, xmax = sorted((x1, x2))\n",
    "        ymin, ymax = sorted((y1, y2))\n",
    "        df.loc[ymin:ymax, xmin:xmax] += 1\n",
    "\n",
    "(df >= 2).sum().sum()"
   ]
  },
  {
   "cell_type": "markdown",
   "metadata": {},
   "source": [
    "# Part 2"
   ]
  },
  {
   "cell_type": "code",
   "execution_count": 5,
   "metadata": {},
   "outputs": [
    {
     "data": {
      "text/plain": [
       "18605"
      ]
     },
     "execution_count": 5,
     "metadata": {},
     "output_type": "execute_result"
    }
   ],
   "source": [
    "df0 = pd.DataFrame(np.zeros((Xmax+1, Ymax+1)))\n",
    "df = df0.copy()\n",
    "\n",
    "for (x1, y1), (x2, y2) in lines:\n",
    "    xmin, xmax = sorted((x1, x2))\n",
    "    ymin, ymax = sorted((y1, y2))\n",
    "    if (x1 == x2) or (y1 == y2):\n",
    "        df.loc[ymin:ymax, xmin:xmax] += 1\n",
    "    else:\n",
    "        sub = df0.copy().loc[ymin:ymax, xmin:xmax]\n",
    "        if (x2 - x1) * (y2 - y1) >= 0:\n",
    "            np.fill_diagonal(sub.values, 1)\n",
    "        else:\n",
    "            np.fill_diagonal(np.fliplr(sub.values), 1)\n",
    "        df.loc[ymin:ymax, xmin:xmax] += sub\n",
    "\n",
    "(df >= 2).sum().sum()"
   ]
  }
 ],
 "metadata": {
  "kernelspec": {
   "display_name": "Python 3",
   "language": "python",
   "name": "python3"
  },
  "language_info": {
   "codemirror_mode": {
    "name": "ipython",
    "version": 3
   },
   "file_extension": ".py",
   "mimetype": "text/x-python",
   "name": "python",
   "nbconvert_exporter": "python",
   "pygments_lexer": "ipython3",
   "version": "3.8.10"
  }
 },
 "nbformat": 4,
 "nbformat_minor": 4
}
